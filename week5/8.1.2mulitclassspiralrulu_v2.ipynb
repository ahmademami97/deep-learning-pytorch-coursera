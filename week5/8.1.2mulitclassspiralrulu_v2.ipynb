{
  "nbformat": 4,
  "nbformat_minor": 0,
  "metadata": {
    "kernelspec": {
      "display_name": "Python 3",
      "language": "python",
      "name": "python3"
    },
    "language_info": {
      "codemirror_mode": {
        "name": "ipython",
        "version": 3
      },
      "file_extension": ".py",
      "mimetype": "text/x-python",
      "name": "python",
      "nbconvert_exporter": "python",
      "pygments_lexer": "ipython3",
      "version": "3.7.6"
    },
    "colab": {
      "name": "8.1.2mulitclassspiralrulu_v2.ipynb",
      "provenance": []
    }
  },
  "cells": [
    {
      "cell_type": "markdown",
      "metadata": {
        "id": "WyDVfet4cL-S"
      },
      "source": [
        "<center>\n",
        "    <img src=\"https://cf-courses-data.s3.us.cloud-object-storage.appdomain.cloud/IBMDeveloperSkillsNetwork-DL0110EN-SkillsNetwork/Template/module%201/images/IDSNlogo.png\" width=\"300\" alt=\"cognitiveclass.ai logo\"  />\n",
        "</center>\n"
      ]
    },
    {
      "cell_type": "markdown",
      "metadata": {
        "id": "PHcSQLBLcL-X"
      },
      "source": [
        "<h1>Deeper Neural Networks with nn.ModuleList()</h1>\n"
      ]
    },
    {
      "cell_type": "markdown",
      "metadata": {
        "id": "D8xBxp0McL-Y"
      },
      "source": [
        "<h3>Objective for this Notebook<h3>    \n",
        "<h5> 1. Create a Deeper Neural Network with <code>nn.ModuleList()</code> </b></h5>\n",
        "<h5> 2. Train and Validate the Model. </h5>\n"
      ]
    },
    {
      "cell_type": "markdown",
      "metadata": {
        "id": "afJ37bZqcL-Y"
      },
      "source": [
        "<h2>Table of Contents</h2>\n",
        "<p>In this lab, you will create a Deeper Neural Network with <code>nn.ModuleList()</code></p>\n",
        "\n",
        "<ul>\n",
        "    <li><a href=\"#Model\">Neural Network Module and Function for Training</a></li>\n",
        "    <li><a href=\"#Train\">Train and Validate the Model</a></li>\n",
        "</ul>\n",
        "<p>Estimated Time Needed: <strong>25 min</strong></p>\n",
        "\n",
        "<hr>\n"
      ]
    },
    {
      "cell_type": "markdown",
      "metadata": {
        "id": "6H4kmL3gcL-Z"
      },
      "source": [
        "<h2>Preparation</h2>\n"
      ]
    },
    {
      "cell_type": "markdown",
      "metadata": {
        "id": "as49V7OQcL-Z"
      },
      "source": [
        "We'll need the following libraries\n"
      ]
    },
    {
      "cell_type": "code",
      "metadata": {
        "id": "-PC_7ANhcL-Z",
        "outputId": "c1871ace-c84b-46b8-c059-e3c67c31e39b",
        "colab": {
          "base_uri": "https://localhost:8080/"
        }
      },
      "source": [
        "# Import the libraries we need for this lab\n",
        "\n",
        "import matplotlib.pyplot as plt \n",
        "import numpy as np\n",
        "import torch\n",
        "import torch.nn as nn\n",
        "import torch.nn.functional as F\n",
        "from matplotlib.colors import ListedColormap\n",
        "from torch.utils.data import Dataset, DataLoader\n",
        "\n",
        "torch.manual_seed(1)"
      ],
      "execution_count": 2,
      "outputs": [
        {
          "output_type": "execute_result",
          "data": {
            "text/plain": [
              "<torch._C.Generator at 0x7f419579c410>"
            ]
          },
          "metadata": {},
          "execution_count": 2
        }
      ]
    },
    {
      "cell_type": "markdown",
      "metadata": {
        "id": "V5QV9B3acL-c"
      },
      "source": [
        "Function used to plot:\n"
      ]
    },
    {
      "cell_type": "code",
      "metadata": {
        "id": "V_fp_yMTcL-d"
      },
      "source": [
        "# Define the function to plot the diagram\n",
        "\n",
        "def plot_decision_regions_3class(model, data_set):\n",
        "    cmap_light = ListedColormap(['#FFAAAA', '#AAFFAA', '#00AAFF'])\n",
        "    cmap_bold = ListedColormap(['#FF0000', '#00FF00', '#00AAFF'])\n",
        "    X = data_set.x.numpy()\n",
        "    y = data_set.y.numpy()\n",
        "    h = .02\n",
        "    x_min, x_max = X[:, 0].min() - 0.1, X[:, 0].max() + 0.1 \n",
        "    y_min, y_max = X[:, 1].min() - 0.1, X[:, 1].max() + 0.1 \n",
        "    xx, yy = np.meshgrid(np.arange(x_min, x_max, h), np.arange(y_min, y_max, h))\n",
        "    XX = torch.Tensor(np.c_[xx.ravel(), yy.ravel()])\n",
        "    _, yhat = torch.max(model(XX), 1)\n",
        "    yhat = yhat.numpy().reshape(xx.shape)\n",
        "    plt.pcolormesh(xx, yy, yhat, cmap=cmap_light)\n",
        "    plt.plot(X[y[:] == 0, 0], X[y[:] == 0, 1], 'ro', label = 'y=0')\n",
        "    plt.plot(X[y[:] == 1, 0], X[y[:] == 1, 1], 'go', label = 'y=1')\n",
        "    plt.plot(X[y[:] == 2, 0], X[y[:] == 2, 1], 'o', label = 'y=2')\n",
        "    plt.title(\"decision region\")\n",
        "    plt.legend()"
      ],
      "execution_count": 1,
      "outputs": []
    },
    {
      "cell_type": "markdown",
      "metadata": {
        "id": "7urjevz8cL-g"
      },
      "source": [
        "Create Dataset <code>Class</code>\n"
      ]
    },
    {
      "cell_type": "code",
      "metadata": {
        "id": "9LneVU62cL-h"
      },
      "source": [
        "# Create Data Class\n",
        "\n",
        "class Data(Dataset):\n",
        "    \n",
        "    #  modified from: http://cs231n.github.io/neural-networks-case-study/\n",
        "    # Constructor\n",
        "    def __init__(self, K=3, N=500):\n",
        "        D = 2\n",
        "        X = np.zeros((N * K, D)) # data matrix (each row = single example)\n",
        "        y = np.zeros(N * K, dtype='uint8') # class labels\n",
        "        for j in range(K):\n",
        "          ix = range(N * j, N * (j + 1))\n",
        "          r = np.linspace(0.0, 1, N) # radius\n",
        "          t = np.linspace(j * 4, (j + 1) * 4, N) + np.random.randn(N) * 0.2 # theta\n",
        "          X[ix] = np.c_[r * np.sin(t), r*np.cos(t)]\n",
        "          y[ix] = j\n",
        "        self.y = torch.from_numpy(y).type(torch.LongTensor)\n",
        "        self.x = torch.from_numpy(X).type(torch.FloatTensor)\n",
        "        self.len = y.shape[0]\n",
        "    \n",
        "    # Getter\n",
        "    def __getitem__(self, index):    \n",
        "        return self.x[index], self.y[index]\n",
        "    \n",
        "    # Get Length\n",
        "    def __len__(self):\n",
        "        return self.len\n",
        "    \n",
        "    # Plot the diagram\n",
        "    def plot_stuff(self):\n",
        "        plt.plot(self.x[self.y[:] == 0, 0].numpy(), self.x[self.y[:] == 0, 1].numpy(), 'o', label=\"y = 0\")\n",
        "        plt.plot(self.x[self.y[:] == 1, 0].numpy(), self.x[self.y[:] == 1, 1].numpy(), 'ro', label=\"y = 1\")\n",
        "        plt.plot(self.x[self.y[:] == 2, 0].numpy(), self.x[self.y[:] == 2, 1].numpy(), 'go', label=\"y = 2\")\n",
        "        plt.legend()"
      ],
      "execution_count": 3,
      "outputs": []
    },
    {
      "cell_type": "markdown",
      "metadata": {
        "id": "d5OZbRD1cL-h"
      },
      "source": [
        "<!--Empty Space for separating topics-->\n"
      ]
    },
    {
      "cell_type": "markdown",
      "metadata": {
        "id": "LgP69fydcL-i"
      },
      "source": [
        "<h2 id=\"Model\">Neural Network Module and Function for Training</h2>\n"
      ]
    },
    {
      "cell_type": "markdown",
      "metadata": {
        "id": "YnwwCBc4cL-i"
      },
      "source": [
        "Neural Network Module using <code>ModuleList()</code>\n"
      ]
    },
    {
      "cell_type": "code",
      "metadata": {
        "id": "sdRpSvlJcL-j"
      },
      "source": [
        "# Create Net model class\n",
        "\n",
        "class Net(nn.Module):\n",
        "    \n",
        "    # Constructor\n",
        "    def __init__(self, Layers):\n",
        "        super().__init__()\n",
        "        self.hidden = nn.ModuleList()\n",
        "        for input_size, output_size in zip(Layers, Layers[1:]):\n",
        "            self.hidden.append(nn.Linear(input_size, output_size))\n",
        "    \n",
        "    # Prediction\n",
        "    def forward(self, activation):\n",
        "        L = len(self.hidden)\n",
        "        for (l, linear_transform) in zip(range(L), self.hidden):\n",
        "            if l < L - 1:\n",
        "                activation = F.relu(linear_transform(activation))\n",
        "            else:\n",
        "                activation = linear_transform(activation)\n",
        "        return activation"
      ],
      "execution_count": 4,
      "outputs": []
    },
    {
      "cell_type": "markdown",
      "metadata": {
        "id": "kYenwx8bcL-j"
      },
      "source": [
        "A function used to train. \n"
      ]
    },
    {
      "cell_type": "code",
      "metadata": {
        "id": "oIz8zlQPcL-j"
      },
      "source": [
        "# Define the function for training the model\n",
        "\n",
        "def train(data_set, model, criterion, train_loader, optimizer, epochs=100):\n",
        "    LOSS = []\n",
        "    ACC = []\n",
        "    for epoch in range(epochs):\n",
        "        for x, y in train_loader:\n",
        "            optimizer.zero_grad()\n",
        "            yhat = model(x)\n",
        "            loss = criterion(yhat, y)\n",
        "            optimizer.zero_grad()\n",
        "            loss.backward()\n",
        "            optimizer.step()\n",
        "            LOSS.append(loss.item())\n",
        "        ACC.append(accuracy(model, data_set))\n",
        "    \n",
        "    fig, (ax1, ax2) = plt.subplots(1,2)\n",
        "    color1 = 'red'\n",
        "    ax1.plot(LOSS, color = color1)\n",
        "    ax1.set_xlabel('Iteration', color = color1)\n",
        "    ax1.set_ylabel('total loss', color = color1)\n",
        "    ax1.tick_params(axis = 'y', color = color1)\n",
        "\n",
        "    color2 = 'blue'\n",
        "    ax2.set_ylabel('accuracy', color = color2)  # we already handled the x-label with ax1\n",
        "    ax2.plot(ACC, color = color2)\n",
        "    ax2.tick_params(axis = 'y', color = color2)\n",
        "    fig.tight_layout()  # otherwise the right y-label is slightly clipped\n",
        "    \n",
        "    plt.show()\n",
        "    return LOSS"
      ],
      "execution_count": 18,
      "outputs": []
    },
    {
      "cell_type": "markdown",
      "metadata": {
        "id": "p0tVC75pcL-j"
      },
      "source": [
        "A function used to calculate accuracy \n"
      ]
    },
    {
      "cell_type": "code",
      "metadata": {
        "id": "dwD4oWd7cL-k"
      },
      "source": [
        "# The function to calculate the accuracy\n",
        "\n",
        "def accuracy(model, data_set):\n",
        "    _, yhat = torch.max(model(data_set.x), 1)\n",
        "    return (yhat == data_set.y).numpy().mean()"
      ],
      "execution_count": 13,
      "outputs": []
    },
    {
      "cell_type": "markdown",
      "metadata": {
        "id": "NMEcPTtDcL-k"
      },
      "source": [
        "<!--Empty Space for separating topics-->\n"
      ]
    },
    {
      "cell_type": "markdown",
      "metadata": {
        "id": "YEvhLHJjcL-k"
      },
      "source": [
        "<h2 id=\"Train\">Train and Validate the Model</h2>\n"
      ]
    },
    {
      "cell_type": "markdown",
      "metadata": {
        "id": "J5f6ELxZcL-k"
      },
      "source": [
        "Crate a dataset object:\n"
      ]
    },
    {
      "cell_type": "code",
      "metadata": {
        "id": "XDtTnbJpcL-l",
        "outputId": "238b7352-601d-4c88-d178-ea22ae3c037d",
        "colab": {
          "base_uri": "https://localhost:8080/",
          "height": 265
        }
      },
      "source": [
        "# Create a Dataset object\n",
        "\n",
        "data_set = Data()\n",
        "data_set.plot_stuff()\n",
        "data_set.y = data_set.y.view(-1)"
      ],
      "execution_count": 14,
      "outputs": [
        {
          "output_type": "display_data",
          "data": {
            "image/png": "[encoded data removed]",
            "text/plain": [
              "<Figure size 432x288 with 1 Axes>"
            ]
          },
          "metadata": {
            "needs_background": "light"
          }
        }
      ]
    },
    {
      "cell_type": "markdown",
      "metadata": {
        "id": "iv8_GBSqcL-l"
      },
      "source": [
        "Create a  network to classify three classes with 1 hidden layer with 50 neurons \n"
      ]
    },
    {
      "cell_type": "code",
      "metadata": {
        "id": "mg32CAlQi1_A",
        "outputId": "2949aba1-612b-41f0-a30b-27ec9e913ffd",
        "colab": {
          "base_uri": "https://localhost:8080/"
        }
      },
      "source": [
        "len(LOSS)"
      ],
      "execution_count": 22,
      "outputs": [
        {
          "output_type": "execute_result",
          "data": {
            "text/plain": [
              "7500"
            ]
          },
          "metadata": {},
          "execution_count": 22
        }
      ]
    },
    {
      "cell_type": "code",
      "metadata": {
        "id": "clCtrkHQcL-l",
        "outputId": "a7624189-98de-46fd-80ae-d3b6d11c33d3",
        "colab": {
          "base_uri": "https://localhost:8080/",
          "height": 561
        }
      },
      "source": [
        "# Train the model with 1 hidden layer with 50 neurons\n",
        "\n",
        "Layers = [2, 50, 3]\n",
        "model = Net(Layers)\n",
        "learning_rate = 0.10\n",
        "optimizer = torch.optim.SGD(model.parameters(), lr=learning_rate)\n",
        "train_loader = DataLoader(dataset=data_set, batch_size=20)\n",
        "criterion = nn.CrossEntropyLoss()\n",
        "LOSS = train(data_set, model, criterion, train_loader, optimizer, epochs=100)\n",
        "\n",
        "plot_decision_regions_3class(model, data_set)"
      ],
      "execution_count": 19,
      "outputs": [
        {
          "output_type": "display_data",
          "data": {
            "image/png": "[encoded data removed]",
            "text/plain": [
              "<Figure size 432x288 with 2 Axes>"
            ]
          },
          "metadata": {
            "needs_background": "light"
          }
        },
        {
          "output_type": "display_data",
          "data": {
            "image/png": "[encoded data removed]",
            "text/plain": [
              "<Figure size 432x288 with 1 Axes>"
            ]
          },
          "metadata": {
            "needs_background": "light"
          }
        }
      ]
    },
    {
      "cell_type": "markdown",
      "metadata": {
        "id": "QXi8NHYecL-l"
      },
      "source": [
        "Create a  network to classify three classes with 2 hidden layers with 20 neurons in total \n"
      ]
    },
    {
      "cell_type": "code",
      "metadata": {
        "id": "7ftmWiHUcL-m",
        "outputId": "5bc6d214-febe-437d-9606-2fd2197138e4",
        "colab": {
          "base_uri": "https://localhost:8080/"
        }
      },
      "source": [
        "Net([3,3,4,3]).parameters"
      ],
      "execution_count": 16,
      "outputs": [
        {
          "output_type": "execute_result",
          "data": {
            "text/plain": [
              "<bound method Module.parameters of Net(\n",
              "  (hidden): ModuleList(\n",
              "    (0): Linear(in_features=3, out_features=3, bias=True)\n",
              "    (1): Linear(in_features=3, out_features=4, bias=True)\n",
              "    (2): Linear(in_features=4, out_features=3, bias=True)\n",
              "  )\n",
              ")>"
            ]
          },
          "metadata": {},
          "execution_count": 16
        }
      ]
    },
    {
      "cell_type": "code",
      "metadata": {
        "id": "Y2rCc4pecL-m",
        "outputId": "d8c68195-2819-4f6f-c3ad-95587d3d06c0",
        "colab": {
          "base_uri": "https://localhost:8080/",
          "height": 561
        }
      },
      "source": [
        "# Train the model with 2 hidden layers with 20 neurons\n",
        "\n",
        "Layers = [2, 10, 10, 3]\n",
        "model = Net(Layers)\n",
        "learning_rate = 0.01\n",
        "optimizer = torch.optim.SGD(model.parameters(), lr=learning_rate)\n",
        "train_loader = DataLoader(dataset=data_set, batch_size=20)\n",
        "criterion = nn.CrossEntropyLoss()\n",
        "LOSS = train(data_set, model, criterion, train_loader, optimizer, epochs=1000)\n",
        "\n",
        "plot_decision_regions_3class(model, data_set)"
      ],
      "execution_count": 24,
      "outputs": [
        {
          "output_type": "display_data",
          "data": {
            "image/png": "[encoded data removed]",
            "text/plain": [
              "<Figure size 432x288 with 2 Axes>"
            ]
          },
          "metadata": {
            "needs_background": "light"
          }
        },
        {
          "output_type": "display_data",
          "data": {
            "image/png": "[encoded data removed]",
            "text/plain": [
              "<Figure size 432x288 with 1 Axes>"
            ]
          },
          "metadata": {
            "needs_background": "light"
          }
        }
      ]
    },
    {
      "cell_type": "markdown",
      "metadata": {
        "id": "_-xcw4HacL-m"
      },
      "source": [
        "<h3>Practice</h3>\n"
      ]
    },
    {
      "cell_type": "markdown",
      "metadata": {
        "id": "L0gWfv0wcL-m"
      },
      "source": [
        "Create a network with three hidden layers each with ten neurons, then train the network using the same process as above \n"
      ]
    },
    {
      "cell_type": "code",
      "metadata": {
        "id": "m9Vla8tFcL-m"
      },
      "source": [
        "# Practice: Create a network with three hidden layers each with ten neurons.\n",
        "\n",
        "# Type your code here"
      ],
      "execution_count": null,
      "outputs": []
    },
    {
      "cell_type": "markdown",
      "metadata": {
        "id": "uyvkodqUcL-n"
      },
      "source": [
        "Double-click <b>here</b> for the solution.\n",
        "\n",
        "<!-- \n",
        "Layers = [2, 10, 10, 10, 3]\n",
        "model = Net(Layers)\n",
        "learning_rate = 0.01\n",
        "optimizer = torch.optim.SGD(model.parameters(), lr = learning_rate)\n",
        "train_loader = DataLoader(dataset = data_set, batch_size = 20)\n",
        "criterion = nn.CrossEntropyLoss()\n",
        "LOSS = train(data_set, model, criterion, train_loader, optimizer, epochs = 1000)\n",
        "plot_decision_regions_3class(model, data_set)\n",
        "-->\n"
      ]
    },
    {
      "cell_type": "markdown",
      "metadata": {
        "id": "SK1BlIb2cL-n"
      },
      "source": [
        "<a href=\"https://dataplatform.cloud.ibm.com/registration/stepone?context=cpdaas&apps=data_science_experience,watson_machine_learning\"><img src=\"https://cf-courses-data.s3.us.cloud-object-storage.appdomain.cloud/IBMDeveloperSkillsNetwork-DL0110EN-SkillsNetwork/Template/module%201/images/Watson_Studio.png\"/></a>\n"
      ]
    },
    {
      "cell_type": "markdown",
      "metadata": {
        "id": "yDFQdugccL-n"
      },
      "source": [
        "<!--Empty Space for separating topics-->\n"
      ]
    },
    {
      "cell_type": "markdown",
      "metadata": {
        "id": "TFebwbcEcL-n"
      },
      "source": [
        "<h2>About the Authors:</h2> \n",
        "\n",
        "<a href=\"https://www.linkedin.com/in/joseph-s-50398b136/\">Joseph Santarcangelo</a> has a PhD in Electrical Engineering, his research focused on using machine learning, signal processing, and computer vision to determine how videos impact human cognition. Joseph has been working for IBM since he completed his PhD. \n"
      ]
    },
    {
      "cell_type": "markdown",
      "metadata": {
        "id": "Ud19kibvcL-n"
      },
      "source": [
        "Other contributors: <a href=\"https://www.linkedin.com/in/michelleccarey/\">Michelle Carey</a>, <a href=\"www.linkedin.com/in/jiahui-mavis-zhou-a4537814a\">Mavis Zhou</a>\n"
      ]
    },
    {
      "cell_type": "markdown",
      "metadata": {
        "id": "MDJTatHQcL-n"
      },
      "source": [
        "## Change Log\n",
        "\n",
        "| Date (YYYY-MM-DD) | Version | Changed By | Change Description                                          |\n",
        "| ----------------- | ------- | ---------- | ----------------------------------------------------------- |\n",
        "| 2020-09-21        | 2.0     | Srishti    | Migrated Lab to Markdown and added to course repo in GitLab |\n",
        "\n",
        "<hr>\n",
        "\n",
        "## <h3 align=\"center\"> © IBM Corporation 2020. All rights reserved. <h3/>\n"
      ]
    }
  ]
}